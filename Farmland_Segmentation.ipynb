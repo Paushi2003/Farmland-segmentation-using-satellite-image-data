{
  "nbformat": 4,
  "nbformat_minor": 0,
  "metadata": {
    "colab": {
      "provenance": [],
      "gpuType": "T4",
      "include_colab_link": true
    },
    "kernelspec": {
      "name": "python3",
      "display_name": "Python 3"
    },
    "language_info": {
      "name": "python"
    },
    "accelerator": "GPU"
  },
  "cells": [
    {
      "cell_type": "markdown",
      "metadata": {
        "id": "view-in-github",
        "colab_type": "text"
      },
      "source": [
        "<a href=\"https://colab.research.google.com/github/Paushi2003/Farmland-segmentation-using-satellite-image-data/blob/main/Farmland_Segmentation.ipynb\" target=\"_parent\"><img src=\"https://colab.research.google.com/assets/colab-badge.svg\" alt=\"Open In Colab\"/></a>"
      ]
    },
    {
      "cell_type": "code",
      "source": [
        "%pip install segment-geospatial leafmap localtileserver"
      ],
      "metadata": {
        "id": "5UN-aFZOlwQV"
      },
      "execution_count": null,
      "outputs": []
    },
    {
      "cell_type": "code",
      "source": [
        "import numpy as np\n",
        "import torch\n",
        "import matplotlib.pyplot as plt\n",
        "import cv2\n",
        "import os\n",
        "import leafmap\n",
        "from samgeo import SamGeo, show_image, download_file, overlay_images, tms_to_geotiff\n",
        "from zipfile import ZipFile"
      ],
      "metadata": {
        "id": "25_YyvxJliaQ"
      },
      "execution_count": null,
      "outputs": []
    },
    {
      "cell_type": "code",
      "source": [
        "m = leafmap.Map(center=[37.8713, -122.2580], zoom=17, height=\"800px\")\n",
        "m.add_basemap(\"SATELLITE\")\n",
        "m"
      ],
      "metadata": {
        "id": "-8IkxkPnmKI4"
      },
      "execution_count": null,
      "outputs": []
    },
    {
      "cell_type": "code",
      "source": [
        "if m.user_roi_bounds() is not None:\n",
        "    bbox = m.user_roi_bounds()\n",
        "else:\n",
        "    bbox = [-122.2659, 37.8682, -122.2521, 37.8741]"
      ],
      "metadata": {
        "id": "sST46i5imWZx"
      },
      "execution_count": null,
      "outputs": []
    },
    {
      "cell_type": "code",
      "source": [
        "image = \"satellite.tif\"\n",
        "tms_to_geotiff(output=image, bbox=bbox, zoom=17, source=\"Satellite\", overwrite=True)"
      ],
      "metadata": {
        "id": "M2hC6wOemaYf"
      },
      "execution_count": null,
      "outputs": []
    },
    {
      "cell_type": "code",
      "source": [
        "m.layers[-1].visible = False\n",
        "m.add_raster(image, layer_name=\"Image\")\n",
        "m"
      ],
      "metadata": {
        "id": "eyyMQz2TmdNk"
      },
      "execution_count": null,
      "outputs": []
    },
    {
      "cell_type": "code",
      "source": [
        "sam = SamGeo(\n",
        "    model_type=\"vit_h\",\n",
        "    checkpoint='sam_vit_h_4b8939.pth',\n",
        "    sam_kwargs=None,\n",
        ")"
      ],
      "metadata": {
        "id": "qVFqdwStpOFs"
      },
      "execution_count": null,
      "outputs": []
    },
    {
      "cell_type": "code",
      "source": [
        "sam.generate(image, output=\"masks.tif\", foreground=True, unique=True)"
      ],
      "metadata": {
        "id": "N9EfRZ-zpPg1"
      },
      "execution_count": null,
      "outputs": []
    },
    {
      "cell_type": "code",
      "source": [
        "sam.show_masks(cmap=\"binary_r\")\n"
      ],
      "metadata": {
        "id": "9QsBdTWwpUPv"
      },
      "execution_count": null,
      "outputs": []
    },
    {
      "cell_type": "code",
      "source": [
        "sam.tiff_to_vector(\"masks.tif\", \"masks.shp\")"
      ],
      "metadata": {
        "id": "ShyRf5-ppdDw"
      },
      "execution_count": null,
      "outputs": []
    },
    {
      "cell_type": "markdown",
      "source": [
        "Creation of frontend using Gradio"
      ],
      "metadata": {
        "id": "LQ-8j2jYp8c7"
      }
    },
    {
      "cell_type": "code",
      "source": [
        "!pip install segment-geospatial leafmap localtileserver\n",
        "!pip install gradio"
      ],
      "metadata": {
        "id": "SsdQ_H9bqIaQ"
      },
      "execution_count": null,
      "outputs": []
    },
    {
      "cell_type": "code",
      "source": [
        "import gradio as gr\n",
        "import numpy as np\n",
        "import torch\n",
        "import matplotlib.pyplot as plt\n",
        "import cv2\n",
        "import os\n",
        "import leafmap\n",
        "from samgeo import SamGeo, show_image, download_file, overlay_images, tms_to_geotiff\n",
        "from zipfile import ZipFile\n",
        "\n",
        "\n",
        "#initialize the model\n",
        "sam = SamGeo(\n",
        "    model_type=\"vit_h\",\n",
        "    checkpoint='sam_vit_h_4b8939.pth',\n",
        "    sam_kwargs=None,\n",
        ")\n",
        "\n",
        "def get_all_file_paths(directory):\n",
        "\n",
        "    # initializing empty file paths list\n",
        "    file_paths = []\n",
        "\n",
        "    # crawling through directory and subdirectories\n",
        "    for root, directories, files in os.walk(directory):\n",
        "        for filename in files:\n",
        "            # join the two strings in order to form the full filepath.\n",
        "            filepath = os.path.join(root, filename)\n",
        "            file_paths.append(filepath)\n",
        "\n",
        "    # returning all file paths\n",
        "    return file_paths\n",
        "\n",
        "def get_shape_files(image):\n",
        "  filename, file_extension = os.path.splitext(image.name)\n",
        "  print(filename,file_extension)\n",
        "  if file_extension=='.tif':\n",
        "    #mkdir for app\n",
        "    storage='Shapefiles_output'\n",
        "    if os.path.exists(storage):\n",
        "        pass\n",
        "    else:\n",
        "      os.mkdir(storage)\n",
        "\n",
        "    zip_folder=f'{storage}/zip_folder'\n",
        "    if os.path.exists(zip_folder):\n",
        "        pass\n",
        "    else:\n",
        "      os.mkdir(zip_folder)\n",
        "\n",
        "    out_file=f'{storage}/out_files'\n",
        "    if os.path.exists(out_file):\n",
        "        pass\n",
        "    else:\n",
        "      os.mkdir(out_file)\n",
        "\n",
        "    # load_model()\n",
        "    sam.generate(image.name, output=f\"{out_file}/masks.tif\", foreground=True, unique=True)\n",
        "    sam.tiff_to_vector(f\"{out_file}/masks.tif\", out_file)\n",
        "\n",
        "    # writing files to a zipfile\n",
        "    file_paths=get_all_file_paths(out_file)\n",
        "\n",
        "    # for file_name in file_paths:\n",
        "    #       print(file_name)\n",
        "\n",
        "    with ZipFile(f'{zip_folder}/shapefile.zip','w') as zip:\n",
        "        # writing each file one by one\n",
        "        for file in file_paths:\n",
        "            zip.write(file)\n",
        "\n",
        "    print('All files zipped successfully!')\n",
        "\n",
        "    return f'{zip_folder}/shapefile.zip'\n",
        "  # get_shape_files(image)\n",
        "  else:\n",
        "    return \"Try uploading .tif file for processing!.\"\n",
        "\n",
        "my_app = gr.Blocks()\n",
        "with my_app:\n",
        "  gr.Markdown(\"<center><h1>Segmenting Satellite Image</h1></center>\")\n",
        "  gr.Markdown(\"<center><h3>Processing time depends on the file size and since the instance is running on CPU it takes longer time.</h></center>\")\n",
        "  with gr.TabItem(\"Get Shapefiles\"):\n",
        "    with gr.Row():\n",
        "      with gr.Column():\n",
        "          img_source = gr.File(label=\"Please select source tif\")\n",
        "          source_image_loader = gr.Button(\"Get Shape File\")\n",
        "      with gr.Column():\n",
        "          output = gr.outputs.File(\"zip\")\n",
        "  source_image_loader.click(get_shape_files,img_source,output)\n",
        "my_app.launch(debug = True)"
      ],
      "metadata": {
        "id": "UOsPgSyZqOq0"
      },
      "execution_count": null,
      "outputs": []
    },
    {
      "cell_type": "code",
      "source": [
        "import gradio as gr\n",
        "import numpy as np\n",
        "import torch\n",
        "import matplotlib.pyplot as plt\n",
        "import cv2\n",
        "import os\n",
        "import leafmap\n",
        "from samgeo import SamGeo, show_image, download_file, overlay_images, tms_to_geotiff\n",
        "from zipfile import ZipFile\n",
        "\n",
        "\n",
        "'''\n",
        "Here we are using a pretrained model\n",
        "'''\n",
        "sam = SamGeo(\n",
        "    model_type=\"vit_h\",\n",
        "    checkpoint='sam_vit_h_4b8939.pth',\n",
        "    sam_kwargs=None,\n",
        ")\n",
        "\n",
        "def get_all_file_paths(directory):\n",
        "\n",
        "    # initializing empty file paths list\n",
        "    file_paths = []\n",
        "\n",
        "    # crawling through directory and subdirectories\n",
        "    for root, directories, files in os.walk(directory):\n",
        "        for filename in files:\n",
        "            # join the two strings in order to form the full filepath.\n",
        "            filepath = os.path.join(root, filename)\n",
        "            file_paths.append(filepath)\n",
        "\n",
        "    # returning all file paths\n",
        "    return file_paths\n",
        "\n",
        "def get_shape_files(image):\n",
        "  filename, file_extension = os.path.splitext(image.name)\n",
        "  print(filename,file_extension)\n",
        "  if file_extension=='.tif':\n",
        "    #mkdir for app\n",
        "    storage='app_store'\n",
        "    if os.path.exists(storage):\n",
        "        pass\n",
        "    else:\n",
        "      os.mkdir(storage)\n",
        "\n",
        "    zip_folder=f'{storage}/zip_folder'\n",
        "    if os.path.exists(zip_folder):\n",
        "        pass\n",
        "    else:\n",
        "      os.mkdir(zip_folder)\n",
        "\n",
        "    out_file=f'{storage}/out_files'\n",
        "    if os.path.exists(out_file):\n",
        "        pass\n",
        "    else:\n",
        "      os.mkdir(out_file)\n",
        "\n",
        "    # load_model()\n",
        "    sam.generate(image.name, output=f\"{out_file}/masks.tif\", foreground=True, unique=True)\n",
        "    sam.tiff_to_vector(f\"{out_file}/masks.tif\", out_file)\n",
        "\n",
        "    # writing files to a zipfile\n",
        "    file_paths=get_all_file_paths(out_file)\n",
        "\n",
        "    # for file_name in file_paths:\n",
        "    #       print(file_name)\n",
        "\n",
        "    with ZipFile(f'{zip_folder}/shapefile.zip','w') as zip:\n",
        "        # writing each file one by one\n",
        "        for file in file_paths:\n",
        "            zip.write(file)\n",
        "\n",
        "    print('All files zipped successfully!')\n",
        "\n",
        "    return f'{zip_folder}/shapefile.zip'\n",
        "  # get_shape_files(image)\n",
        "  else:\n",
        "    return \"Try uploading .tif file for processing!.\"\n",
        "\n",
        "my_app = gr.Blocks()\n",
        "with my_app:\n",
        "  gr.Markdown(\"<center><h1>Segmenting Satellite Image</h1></center>\")\n",
        "  gr.Markdown(\"<center><h3>Processing time depends on the file size and since the instance is running on CPU it takes longer time.</h></center>\")\n",
        "  with gr.TabItem(\"Get Shapefiles\"):\n",
        "    with gr.Row():\n",
        "      with gr.Column():\n",
        "          img_source = gr.File(label=\"Please select source tif\")\n",
        "          source_image_loader = gr.Button(\"Get Shape File\")\n",
        "      with gr.Column():\n",
        "          output = gr.outputs.File(\"zip\")\n",
        "  source_image_loader.click(get_shape_files,img_source,output)\n",
        "my_app.launch(debug = True)"
      ],
      "metadata": {
        "id": "fU69qXZLJtQ9"
      },
      "execution_count": null,
      "outputs": []
    }
  ]
}